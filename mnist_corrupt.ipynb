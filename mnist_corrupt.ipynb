{
  "cells": [
    {
      "cell_type": "markdown",
      "source": [
        "# MNIST Label Corruption Experiment\n",
        "This experiment measures the robustness of a supervised classification neural network to varying levels of corruption of the labels on MNIST.\n",
        "\n",
        "Hypothesis: a NN classifier will be robust to label corruption.\n",
        "Results: a NN classifier on MNIST is robust up to 70% label corruption, afterwards it quickly falls off."
      ],
      "metadata": {
        "id": "uSvbGaqZz_II"
      }
    },
    {
      "cell_type": "code",
      "execution_count": 56,
      "metadata": {
        "id": "0trJmd6DjqBZ"
      },
      "outputs": [],
      "source": [
        "import random\n",
        "import numpy as np\n",
        "import tensorflow as tf\n",
        "import matplotlib.pyplot as plt"
      ]
    },
    {
      "cell_type": "code",
      "execution_count": 57,
      "metadata": {
        "id": "7FP5258xjs-v"
      },
      "outputs": [],
      "source": [
        "# setup training data\n",
        "mnist = tf.keras.datasets.mnist\n",
        "\n",
        "(x_train, y_train), (x_test, y_test) = mnist.load_data()\n",
        "x_train, x_test = x_train / 255.0, x_test / 255.0"
      ]
    },
    {
      "cell_type": "code",
      "source": [
        "# create corrupted training data by randomly changing the labels\n",
        "corrupt_levels = np.arange(0.0,1.0,0.1)\n",
        "corrupted_data = {}\n",
        "labels = list(np.unique(y_train))\n",
        "for level in corrupt_levels:\n",
        "  y_train_corrupt = y_train.copy()\n",
        "  for idx, y_label in enumerate(y_train_corrupt):\n",
        "    if np.random.uniform() < level:\n",
        "      labels.remove(y_label)\n",
        "      y_train_corrupt[idx] = random.choice(labels)\n",
        "      labels.append(y_label)\n",
        "  corrupted_data[level] = y_train_corrupt\n",
        "\n",
        "# check corruption is correct\n",
        "delta = 0.02\n",
        "for level, y_corrupt in corrupted_data.items():\n",
        "  diff_pct = np.equal(corrupted_data[level], y_train).sum()/y_train.shape[0]\n",
        "  assert (diff_pct < 1.0 - level + delta) and (diff_pct > 1.0 - level - delta)"
      ],
      "metadata": {
        "id": "CSFkq5HMzKbj"
      },
      "execution_count": 58,
      "outputs": []
    },
    {
      "cell_type": "code",
      "execution_count": 59,
      "metadata": {
        "id": "OeOrNdnkEEcR",
        "colab": {
          "base_uri": "https://localhost:8080/"
        },
        "outputId": "e3a9b0dd-abfb-40f5-a052-a67784856cd6"
      },
      "outputs": [
        {
          "output_type": "stream",
          "name": "stdout",
          "text": [
            "1.9448756\n"
          ]
        }
      ],
      "source": [
        "# define model\n",
        "model = tf.keras.models.Sequential([\n",
        "  tf.keras.layers.Flatten(input_shape=(28, 28)),\n",
        "  tf.keras.layers.Dense(128, activation='relu'),\n",
        "  tf.keras.layers.Dropout(0.2),\n",
        "  tf.keras.layers.Dense(10)\n",
        "])\n",
        "\n",
        "# define predictions\n",
        "predictions = model(x_train[:1]).numpy()\n",
        "predictions\n",
        "tf.nn.softmax(predictions).numpy()\n",
        "\n",
        "# set loss function\n",
        "loss_fn = tf.keras.losses.SparseCategoricalCrossentropy(from_logits=True)\n",
        "\n",
        "# before training loss should be random ~log(1/10) ~= 2.3\n",
        "print(loss_fn(y_train[:1], predictions).numpy())\n",
        "\n",
        "# compile the model\n",
        "model.compile(optimizer='adam',\n",
        "              loss=loss_fn,\n",
        "              metrics=['accuracy'])"
      ]
    },
    {
      "cell_type": "code",
      "execution_count": 60,
      "metadata": {
        "id": "y7suUbJXVLqP",
        "colab": {
          "base_uri": "https://localhost:8080/"
        },
        "outputId": "1e94990f-1db2-46a3-b924-6db2ff3d7dc9"
      },
      "outputs": [
        {
          "output_type": "stream",
          "name": "stdout",
          "text": [
            "Training at corruption level 0.0\n",
            "Epoch 1/5\n",
            "1875/1875 [==============================] - 4s 2ms/step - loss: 0.2957 - accuracy: 0.9141\n",
            "Epoch 2/5\n",
            "1875/1875 [==============================] - 4s 2ms/step - loss: 0.1416 - accuracy: 0.9572\n",
            "Epoch 3/5\n",
            "1875/1875 [==============================] - 4s 2ms/step - loss: 0.1043 - accuracy: 0.9681\n",
            "Epoch 4/5\n",
            "1875/1875 [==============================] - 4s 2ms/step - loss: 0.0851 - accuracy: 0.9736\n",
            "Epoch 5/5\n",
            "1875/1875 [==============================] - 4s 2ms/step - loss: 0.0727 - accuracy: 0.9774\n",
            "313/313 - 1s - loss: 0.0752 - accuracy: 0.9772 - 655ms/epoch - 2ms/step\n",
            "Training at corruption level 0.1\n",
            "Epoch 1/5\n",
            "1875/1875 [==============================] - 4s 2ms/step - loss: 0.8015 - accuracy: 0.8634\n",
            "Epoch 2/5\n",
            "1875/1875 [==============================] - 4s 2ms/step - loss: 0.7181 - accuracy: 0.8711\n",
            "Epoch 3/5\n",
            "1875/1875 [==============================] - 4s 2ms/step - loss: 0.6933 - accuracy: 0.8728\n",
            "Epoch 4/5\n",
            "1875/1875 [==============================] - 4s 2ms/step - loss: 0.6771 - accuracy: 0.8742\n",
            "Epoch 5/5\n",
            "1875/1875 [==============================] - 4s 2ms/step - loss: 0.6659 - accuracy: 0.8754\n",
            "313/313 - 0s - loss: 0.2141 - accuracy: 0.9746 - 420ms/epoch - 1ms/step\n",
            "Training at corruption level 0.2\n",
            "Epoch 1/5\n",
            "1875/1875 [==============================] - 4s 2ms/step - loss: 1.1261 - accuracy: 0.7729\n",
            "Epoch 2/5\n",
            "1875/1875 [==============================] - 4s 2ms/step - loss: 1.0849 - accuracy: 0.7765\n",
            "Epoch 3/5\n",
            "1875/1875 [==============================] - 4s 2ms/step - loss: 1.0706 - accuracy: 0.7772\n",
            "Epoch 4/5\n",
            "1875/1875 [==============================] - 4s 2ms/step - loss: 1.0561 - accuracy: 0.7774\n",
            "Epoch 5/5\n",
            "1875/1875 [==============================] - 5s 3ms/step - loss: 1.0457 - accuracy: 0.7776\n",
            "313/313 - 0s - loss: 0.3504 - accuracy: 0.9746 - 418ms/epoch - 1ms/step\n",
            "Training at corruption level 0.30000000000000004\n",
            "Epoch 1/5\n",
            "1875/1875 [==============================] - 4s 2ms/step - loss: 1.4241 - accuracy: 0.6772\n",
            "Epoch 2/5\n",
            "1875/1875 [==============================] - 4s 2ms/step - loss: 1.3908 - accuracy: 0.6798\n",
            "Epoch 3/5\n",
            "1875/1875 [==============================] - 4s 2ms/step - loss: 1.3772 - accuracy: 0.6798\n",
            "Epoch 4/5\n",
            "1875/1875 [==============================] - 4s 2ms/step - loss: 1.3649 - accuracy: 0.6805\n",
            "Epoch 5/5\n",
            "1875/1875 [==============================] - 5s 3ms/step - loss: 1.3537 - accuracy: 0.6816\n",
            "313/313 - 0s - loss: 0.5320 - accuracy: 0.9711 - 399ms/epoch - 1ms/step\n",
            "Training at corruption level 0.4\n",
            "Epoch 1/5\n",
            "1875/1875 [==============================] - 4s 2ms/step - loss: 1.6728 - accuracy: 0.5818\n",
            "Epoch 2/5\n",
            "1875/1875 [==============================] - 4s 2ms/step - loss: 1.6454 - accuracy: 0.5838\n",
            "Epoch 3/5\n",
            "1875/1875 [==============================] - 4s 2ms/step - loss: 1.6302 - accuracy: 0.5840\n",
            "Epoch 4/5\n",
            "1875/1875 [==============================] - 4s 2ms/step - loss: 1.6235 - accuracy: 0.5846\n",
            "Epoch 5/5\n",
            "1875/1875 [==============================] - 4s 2ms/step - loss: 1.6119 - accuracy: 0.5856\n",
            "313/313 - 0s - loss: 0.6915 - accuracy: 0.9679 - 411ms/epoch - 1ms/step\n",
            "Training at corruption level 0.5\n",
            "Epoch 1/5\n",
            "1875/1875 [==============================] - 4s 2ms/step - loss: 1.8904 - accuracy: 0.4821\n",
            "Epoch 2/5\n",
            "1875/1875 [==============================] - 4s 2ms/step - loss: 1.8663 - accuracy: 0.4843\n",
            "Epoch 3/5\n",
            "1875/1875 [==============================] - 4s 2ms/step - loss: 1.8536 - accuracy: 0.4838\n",
            "Epoch 4/5\n",
            "1875/1875 [==============================] - 4s 2ms/step - loss: 1.8462 - accuracy: 0.4846\n",
            "Epoch 5/5\n",
            "1875/1875 [==============================] - 4s 2ms/step - loss: 1.8365 - accuracy: 0.4851\n",
            "313/313 - 0s - loss: 0.8693 - accuracy: 0.9662 - 397ms/epoch - 1ms/step\n",
            "Training at corruption level 0.6000000000000001\n",
            "Epoch 1/5\n",
            "1875/1875 [==============================] - 4s 2ms/step - loss: 2.0693 - accuracy: 0.3797\n",
            "Epoch 2/5\n",
            "1875/1875 [==============================] - 4s 2ms/step - loss: 2.0490 - accuracy: 0.3801\n",
            "Epoch 3/5\n",
            "1875/1875 [==============================] - 4s 2ms/step - loss: 2.0393 - accuracy: 0.3811\n",
            "Epoch 4/5\n",
            "1875/1875 [==============================] - 4s 2ms/step - loss: 2.0303 - accuracy: 0.3818\n",
            "Epoch 5/5\n",
            "1875/1875 [==============================] - 4s 2ms/step - loss: 2.0209 - accuracy: 0.3841\n",
            "313/313 - 0s - loss: 1.1444 - accuracy: 0.9551 - 411ms/epoch - 1ms/step\n",
            "Training at corruption level 0.7000000000000001\n",
            "Epoch 1/5\n",
            "1875/1875 [==============================] - 5s 2ms/step - loss: 2.1995 - accuracy: 0.2797\n",
            "Epoch 2/5\n",
            "1875/1875 [==============================] - 5s 2ms/step - loss: 2.1872 - accuracy: 0.2792\n",
            "Epoch 3/5\n",
            "1875/1875 [==============================] - 5s 2ms/step - loss: 2.1780 - accuracy: 0.2811\n",
            "Epoch 4/5\n",
            "1875/1875 [==============================] - 5s 2ms/step - loss: 2.1706 - accuracy: 0.2847\n",
            "Epoch 5/5\n",
            "1875/1875 [==============================] - 4s 2ms/step - loss: 2.1633 - accuracy: 0.2843\n",
            "313/313 - 0s - loss: 1.4454 - accuracy: 0.9397 - 427ms/epoch - 1ms/step\n",
            "Training at corruption level 0.8\n",
            "Epoch 1/5\n",
            "1875/1875 [==============================] - 4s 2ms/step - loss: 2.2811 - accuracy: 0.1834\n",
            "Epoch 2/5\n",
            "1875/1875 [==============================] - 4s 2ms/step - loss: 2.2714 - accuracy: 0.1869\n",
            "Epoch 3/5\n",
            "1875/1875 [==============================] - 4s 2ms/step - loss: 2.2655 - accuracy: 0.1870\n",
            "Epoch 4/5\n",
            "1875/1875 [==============================] - 4s 2ms/step - loss: 2.2577 - accuracy: 0.1896\n",
            "Epoch 5/5\n",
            "1875/1875 [==============================] - 4s 2ms/step - loss: 2.2511 - accuracy: 0.1919\n",
            "313/313 - 0s - loss: 1.8510 - accuracy: 0.8151 - 404ms/epoch - 1ms/step\n",
            "Training at corruption level 0.9\n",
            "Epoch 1/5\n",
            "1875/1875 [==============================] - 4s 2ms/step - loss: 2.3090 - accuracy: 0.1010\n",
            "Epoch 2/5\n",
            "1875/1875 [==============================] - 4s 2ms/step - loss: 2.3015 - accuracy: 0.1041\n",
            "Epoch 3/5\n",
            "1875/1875 [==============================] - 4s 2ms/step - loss: 2.2997 - accuracy: 0.1064\n",
            "Epoch 4/5\n",
            "1875/1875 [==============================] - 4s 2ms/step - loss: 2.2967 - accuracy: 0.1092\n",
            "Epoch 5/5\n",
            "1875/1875 [==============================] - 4s 2ms/step - loss: 2.2929 - accuracy: 0.1124\n",
            "313/313 - 0s - loss: 2.2668 - accuracy: 0.1749 - 403ms/epoch - 1ms/step\n"
          ]
        }
      ],
      "source": [
        "# fit the model to training data\n",
        "metrics = {}\n",
        "for level, y_labels in corrupted_data.items():\n",
        "  tf.keras.backend.clear_session()\n",
        "  print(f'Training at corruption level {level}')\n",
        "  model.fit(x_train, y_labels, epochs=5)\n",
        "  metrics[level] = model.evaluate(x_test,  y_test, verbose=2)"
      ]
    },
    {
      "cell_type": "code",
      "source": [
        "x,y = [],[]\n",
        "for l, m in metrics.items():\n",
        "  x.append(l)\n",
        "  y.append(m[1])\n",
        "plt.plot(x, y, label=\"Accuracy\")\n",
        "plt.plot()\n",
        "\n",
        "plt.xlabel(\"Label Corruption (%)\")\n",
        "plt.ylabel(\"Classification Accuracy (%)\")\n",
        "plt.title(\"MNIST Label Corruption-Accurcy\")\n",
        "plt.legend()\n",
        "plt.show()"
      ],
      "metadata": {
        "colab": {
          "base_uri": "https://localhost:8080/",
          "height": 295
        },
        "id": "2R-1uWtw7RkE",
        "outputId": "dbc84cad-6c18-42d8-b4a2-7cac806d5722"
      },
      "execution_count": 61,
      "outputs": [
        {
          "output_type": "display_data",
          "data": {
            "text/plain": [
              "<Figure size 432x288 with 1 Axes>"
            ],
            "image/png": "[encoded data removed]"
          },
          "metadata": {
            "needs_background": "light"
          }
        }
      ]
    },
    {
      "cell_type": "code",
      "source": [
        ""
      ],
      "metadata": {
        "id": "P9tmlsT58UmJ"
      },
      "execution_count": 61,
      "outputs": []
    }
  ],
  "metadata": {
    "colab": {
      "collapsed_sections": [
        "rX8mhOLljYeM"
      ],
      "name": "mnist_corrupt.ipynb",
      "toc_visible": true,
      "provenance": []
    },
    "kernelspec": {
      "display_name": "Python 3",
      "name": "python3"
    }
  },
  "nbformat": 4,
  "nbformat_minor": 0
}