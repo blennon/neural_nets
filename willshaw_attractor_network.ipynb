{
  "nbformat": 4,
  "nbformat_minor": 0,
  "metadata": {
    "colab": {
      "name": "willshaw_attractor_network.ipynb",
      "provenance": [],
      "collapsed_sections": []
    },
    "kernelspec": {
      "name": "python3",
      "display_name": "Python 3"
    },
    "accelerator": "GPU"
  },
  "cells": [
    {
      "cell_type": "code",
      "metadata": {
        "id": "6TqBLiaFxOfX"
      },
      "source": [
        "import torch\n",
        "import random\n",
        "from torch.nn import PairwiseDistance"
      ],
      "execution_count": null,
      "outputs": []
    },
    {
      "cell_type": "code",
      "metadata": {
        "id": "9F4k49TU7NME"
      },
      "source": [
        "class NeuronEnsembles:\n",
        "  \n",
        "  def __init__(self, field_size=20000, num_ensembles=5000, sparsity=0.003):\n",
        "    self.field_size = field_size\n",
        "    self.num_ensembles = num_ensembles\n",
        "    self.sparsity = sparsity\n",
        "    self.generate_random_ensembles()\n",
        "    \n",
        "  def generate_random_ensembles(self):\n",
        "    ensembles = torch.rand(self.field_size, self.num_ensembles)\n",
        "    mask = ensembles <= self.sparsity\n",
        "    ensembles[mask] = 1\n",
        "    ensembles[~mask] = 0\n",
        "    self.ensembles = ensembles\n",
        "    \n",
        "  def get_ensembles(self):\n",
        "    return self.ensembles\n",
        "  \n",
        "  def get_random_ensemble(self):\n",
        "    return self.ensembles[:,random.randint(0,self.num_ensembles-1)]\n",
        "  \n",
        "class Network:\n",
        "  \n",
        "  def __init__(self, field_1_size, field_2_size):\n",
        "    self.field_1 = torch.zeros(field_1_size)\n",
        "    self.field_2 = torch.zeros(field_2_size)\n",
        "    \n",
        "  def train(self, field_1_ensembles, field_2_ensembles):\n",
        "    weights = torch.einsum('ib,jb->ij', (field_2_ensembles, field_1_ensembles))\n",
        "    weights[weights>0] = 1\n",
        "    self.weights = weights\n",
        "    \n",
        "  def set_field(self, activity, which):\n",
        "    if which == 'field_1':\n",
        "      self.field_1 = activity\n",
        "    elif which == 'field_2':\n",
        "      self.field_2 = activity\n",
        "    else:\n",
        "      raise Exception(\"'which' must be 'field_1' or 'field_2'\")\n",
        "      \n",
        "  def read_field(self, which):\n",
        "    if which == 'field_1':\n",
        "      return self.field_1\n",
        "    elif which == 'field_2':\n",
        "      return self.field_2\n",
        "    else:\n",
        "      raise Exception(\"'which' must be 'field_1' or 'field_2'\")\n",
        "\n",
        "  def forward(self, threshold=3):\n",
        "    self.field_2 = self.activate(torch.mv(self.weights, self.field_1), threshold)\n",
        "  \n",
        "  def backward(self, threshold=3):\n",
        "    self.field_1 = self.activate(torch.mv(self.weights.t(), self.field_2), threshold)\n",
        "  \n",
        "  def cycle(self, threshold=3):\n",
        "    '''Forward and backward pass of network'''\n",
        "    self.forward(threshold)\n",
        "    self.backward(threshold)\n",
        "  \n",
        "  def cycle_with(self, activity, threshold=3):\n",
        "    self.set_field(activity, 'field_1')\n",
        "    self.cycle()\n",
        "    return self.read_field('field_1')\n",
        "  \n",
        "  def reset_activity(self):\n",
        "    self.field_1 *= 0\n",
        "    self.field_2 *= 0\n",
        "  \n",
        "  @staticmethod\n",
        "  def activate(field, threshold):\n",
        "    mask = field > (torch.max(field) - threshold)\n",
        "    field[mask] = 1\n",
        "    field[~mask] = 0\n",
        "    return field\n",
        "  \n",
        "def dist(x1, x2, p=1):\n",
        "  return torch.dist(x1,x2,p).item()"
      ],
      "execution_count": null,
      "outputs": []
    },
    {
      "cell_type": "markdown",
      "metadata": {
        "id": "NBZWwxwzgGZt"
      },
      "source": [
        "# Train and test the attractor network"
      ]
    },
    {
      "cell_type": "code",
      "metadata": {
        "id": "zbUam7BqGfBX"
      },
      "source": [
        "# train the network\n",
        "field_1_size = 20000\n",
        "field_2_size = 20000\n",
        "num_ensembles = 5000\n",
        "field_1_ensembles = NeuronEnsembles(field_1_size, num_ensembles)\n",
        "field_2_ensembles = NeuronEnsembles(field_2_size, num_ensembles)\n",
        "net = Network(field_1_size, field_2_size)\n",
        "net.train(field_1_ensembles.get_ensembles(), field_2_ensembles.get_ensembles())"
      ],
      "execution_count": null,
      "outputs": []
    },
    {
      "cell_type": "code",
      "metadata": {
        "id": "O9he9X8tJVJ4",
        "colab": {
          "base_uri": "https://localhost:8080/",
          "height": 34
        },
        "outputId": "a4970431-b185-4c64-d65d-1d7398bfddb7"
      },
      "source": [
        "# test the network\n",
        "x = field_1_ensembles.get_random_ensemble()\n",
        "net.set_field(x,'field_1')\n",
        "net.cycle()\n",
        "x_ = net.read_field('field_1')\n",
        "print('distance between original and recovered ensemble: {}'.format(dist(x,x_)))"
      ],
      "execution_count": null,
      "outputs": [
        {
          "output_type": "stream",
          "text": [
            "distance between original and recovered ensemble: 0.0\n"
          ],
          "name": "stdout"
        }
      ]
    },
    {
      "cell_type": "markdown",
      "metadata": {
        "id": "luqiI650RAE6"
      },
      "source": [
        "# Experiment #1: Pattern Corruption & Recovery\n",
        "How significantly can we corrupt our initial vector and still reliably recover the correct one."
      ]
    },
    {
      "cell_type": "code",
      "metadata": {
        "id": "DQiTgOvuXj2O",
        "colab": {
          "base_uri": "https://localhost:8080/",
          "height": 68
        },
        "outputId": "9297e190-ead7-479f-c6f2-31ab22296f7f"
      },
      "source": [
        "def corrupt_ensemble(ensemble, pct_disable=0.25, pct_activate=0.25):\n",
        "  '''\n",
        "  Corrupt a neural ensemble by disabling a percent of their active neurons and \n",
        "  activating a percent of inactive neurons. Percents are based on the number\n",
        "  of active neurons in the original ensemble.\n",
        "  '''\n",
        "  ensemble = ensemble.clone()\n",
        "  num_active = ensemble.sum().item()\n",
        "  num_disable = int(num_active * pct_disable)\n",
        "  num_activate = int(num_active * pct_activate)\n",
        "  \n",
        "  # randomly disable active neurons\n",
        "  nz_idx = ensemble.nonzero()\n",
        "  disable_idx = nz_idx[torch.randperm(nz_idx.size()[0])[:num_disable]]\n",
        "  ensemble[disable_idx] = 0\n",
        "  \n",
        "  # randomly enable inactive neurons\n",
        "  z_idx = (x == 0).nonzero()\n",
        "  activate_idx = z_idx[torch.randperm(z_idx.size()[0])[:num_activate]]\n",
        "  ensemble[activate_idx] = 1\n",
        "  return ensemble\n",
        "\n",
        "x = field_1_ensembles.get_random_ensemble()\n",
        "print('Num active original: {}'.format(x.sum().item()))\n",
        "x = corrupt_ensemble(x, pct_disable=0.5, pct_activate=0)\n",
        "print('Num active after disable: {}'.format(x.sum().item()))\n",
        "x = corrupt_ensemble(x, pct_disable=0, pct_activate=0.5)\n",
        "print('Num active after enable: {}'.format(x.sum().item()))"
      ],
      "execution_count": null,
      "outputs": [
        {
          "output_type": "stream",
          "text": [
            "Num active original: 68.0\n",
            "Num active after disable: 34.0\n",
            "Num active after enable: 51.0\n"
          ],
          "name": "stdout"
        }
      ]
    },
    {
      "cell_type": "code",
      "metadata": {
        "id": "hekln8Ackx_L",
        "colab": {
          "base_uri": "https://localhost:8080/",
          "height": 34
        },
        "outputId": "f0aaf7ec-7ec0-4d4d-a097-b8fee938b2b5"
      },
      "source": [
        "x = field_1_ensembles.get_random_ensemble()\n",
        "x_c = corrupt_ensemble(x, pct_disable=0.5, pct_activate=1.5)\n",
        "x_ = net.cycle_with(x_c)\n",
        "#x_ = net.cycle_with(x_)\n",
        "dist(x,x_)"
      ],
      "execution_count": null,
      "outputs": [
        {
          "output_type": "execute_result",
          "data": {
            "text/plain": [
              "2.0"
            ]
          },
          "metadata": {
            "tags": []
          },
          "execution_count": 24
        }
      ]
    },
    {
      "cell_type": "markdown",
      "metadata": {
        "id": "g62dQi4GXDIe"
      },
      "source": [
        "# Experiment #2: Capacity\n",
        "What is the capacity of this network to store and recover patterns reliably"
      ]
    },
    {
      "cell_type": "markdown",
      "metadata": {
        "id": "76wfdef1VH7v"
      },
      "source": [
        "# Discussion\n",
        "Let's discuss the intuition behind why this simple model works.\n",
        "\n",
        "Suppose our network consists of only one pair $(\\vec{x},\\vec{y})$ of neuron ensembles. We construct a weight matrix $\\vec{W} = \\vec{y} \\vec{x}^T$.\n",
        "\n",
        "During the forward pass, we perform $\\vec{W}\\vec{x} = a(\\vec{y^*}) \\approx\\vec{y}$ where $a()$ is our neural field activation function.\n",
        "\n",
        "Then during the backward pass we perform $\\vec{W}^T\\vec{y^*} = a(\\vec{x^*}) \\approx\\vec{x}$\n",
        "\n",
        "It's easy to see how this works when there is just one pair of ensembles to learn, but why does it work with many? The magic is that we are taking advantage of high dimension spaces and sparse distributed representations.\n",
        "\n",
        ">$\\let\\vec\\mathbf$\n",
        ">$\\sum_{k} \\vec{y_k} \\vec{x_k}^T$\n",
        "\n"
      ]
    },
    {
      "cell_type": "markdown",
      "metadata": {
        "id": "AaXJp-86V_D2"
      },
      "source": [
        "# References\n",
        "https://redwood.berkeley.edu/wp-content/uploads/2018/01/knoblauch2010memory.pdf"
      ]
    },
    {
      "cell_type": "code",
      "metadata": {
        "id": "uWDqCg03iDyZ"
      },
      "source": [
        ""
      ],
      "execution_count": null,
      "outputs": []
    }
  ]
}